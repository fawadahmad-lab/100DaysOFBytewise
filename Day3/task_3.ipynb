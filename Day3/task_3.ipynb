{
 "cells": [
  {
   "cell_type": "markdown",
   "metadata": {},
   "source": [
    "### Factorial of a Number "
   ]
  },
  {
   "cell_type": "code",
   "execution_count": null,
   "metadata": {},
   "outputs": [],
   "source": [
    "def factorial(n):\n",
    "    if n == 0:\n",
    "        return 1\n",
    "    return n * factorial(n-1)\n",
    "\n",
    "num = 5\n",
    "print(f\"The factorial of {num} is {factorial(num)}.\")\n"
   ]
  },
  {
   "cell_type": "markdown",
   "metadata": {},
   "source": [
    "### Palindrome linked-list"
   ]
  },
  {
   "cell_type": "code",
   "execution_count": null,
   "metadata": {},
   "outputs": [],
   "source": [
    "class ListNode:\n",
    "    def __init__(self, val=0, next=None):\n",
    "        self.val = val\n",
    "        self.next = next\n",
    "\n",
    "def isPalindrome(head):\n",
    "    vals = []\n",
    "    while head:\n",
    "        vals.append(head.val)\n",
    "        head = head.next\n",
    "    return vals == vals[::-1]\n",
    "\n",
    "# Example usage\n",
    "nodes = [ListNode(1), ListNode(2), ListNode(3), ListNode(2), ListNode(1)]\n",
    "for i in range(len(nodes) - 1):\n",
    "    nodes[i].next = nodes[i+1]\n",
    "\n",
    "head = nodes[0]\n",
    "if isPalindrome(head):\n",
    "    print(\"The linked list is a palindrome.\")\n",
    "else:\n",
    "    print(\"The linked list is not a palindrome.\")\n"
   ]
  },
  {
   "cell_type": "markdown",
   "metadata": {},
   "source": [
    "### Merge Sort"
   ]
  },
  {
   "cell_type": "code",
   "execution_count": null,
   "metadata": {},
   "outputs": [],
   "source": [
    "def mergeSortedArrays(arr1, arr2):\n",
    "    return sorted(arr1 + arr2)\n",
    "\n",
    "arr1 = [1, 3, 5]\n",
    "arr2 = [2, 4, 6]\n",
    "print(mergeSortedArrays(arr1, arr2))\n"
   ]
  },
  {
   "cell_type": "markdown",
   "metadata": {},
   "source": [
    "### Binary Search Tree"
   ]
  },
  {
   "cell_type": "code",
   "execution_count": null,
   "metadata": {},
   "outputs": [],
   "source": [
    "class TreeNode:\n",
    "    def __init__(self, key):\n",
    "        self.left = None\n",
    "        self.right = None\n",
    "        self.val = key\n",
    "\n",
    "def insert(root, key):\n",
    "    if root is None:\n",
    "        return TreeNode(key)\n",
    "    else:\n",
    "        if root.val < key:\n",
    "            root.right = insert(root.right, key)\n",
    "        else:\n",
    "            root.left = insert(root.left, key)\n",
    "    return root\n",
    "\n",
    "def search(root, key):\n",
    "    if root is None or root.val == key:\n",
    "        return root\n",
    "    if root.val < key:\n",
    "        return search(root.right, key)\n",
    "    return search(root.left, key)\n",
    "\n",
    "def inorder(root):\n",
    "    return inorder(root.left) + [root.val] + inorder(root.right) if root else []\n",
    "\n",
    "# Example usage\n",
    "root = None\n",
    "keys = [20, 8, 22, 4, 12, 10, 14]\n",
    "\n",
    "for key in keys:\n",
    "    root = insert(root, key)\n",
    "\n",
    "print(\"Inorder traversal of the BST:\", inorder(root))\n"
   ]
  },
  {
   "cell_type": "markdown",
   "metadata": {},
   "source": [
    "### Longest Palnidromic substring"
   ]
  },
  {
   "cell_type": "code",
   "execution_count": null,
   "metadata": {},
   "outputs": [],
   "source": [
    "def longestPalindrome(s):\n",
    "    res = \"\"\n",
    "    for i in range(len(s)):\n",
    "        for j in range(i, len(s)):\n",
    "            if s[i:j+1] == s[i:j+1][::-1]:\n",
    "                if len(s[i:j+1]) > len(res):\n",
    "                    res = s[i:j+1]\n",
    "    return res\n",
    "\n",
    "s = \"babad\"\n",
    "print(longestPalindrome(s))\n"
   ]
  },
  {
   "cell_type": "markdown",
   "metadata": {},
   "source": [
    "### Merge Interval "
   ]
  },
  {
   "cell_type": "code",
   "execution_count": null,
   "metadata": {},
   "outputs": [],
   "source": [
    "def mergeIntervals(intervals):\n",
    "    intervals.sort(key=lambda x: x[0])\n",
    "    merged = []\n",
    "    for interval in intervals:\n",
    "        if not merged or merged[-1][1] < interval[0]:\n",
    "            merged.append(interval)\n",
    "        else:\n",
    "            merged[-1][1] = max(merged[-1][1], interval[1])\n",
    "    return merged\n",
    "\n",
    "intervals = [(1, 3), (2, 6), (8, 10), (15, 18)]\n",
    "print(mergeIntervals(intervals))\n"
   ]
  },
  {
   "cell_type": "markdown",
   "metadata": {},
   "source": [
    "### Maximum Sub Array "
   ]
  },
  {
   "cell_type": "code",
   "execution_count": null,
   "metadata": {},
   "outputs": [],
   "source": [
    "def maxSubArray(nums):\n",
    "    max_so_far = nums[0]\n",
    "    max_ending_here = nums[0]\n",
    "    for i in range(1, len(nums)):\n",
    "        max_ending_here = max(nums[i], max_ending_here + nums[i])\n",
    "        max_so_far = max(max_so_far, max_ending_here)\n",
    "    return max_so_far\n",
    "\n",
    "nums = [-2, 1, -3, 4, -1, 2, 1, -5, 4]\n",
    "print(maxSubArray(nums))\n"
   ]
  },
  {
   "cell_type": "markdown",
   "metadata": {},
   "source": [
    "### Reverse linked list "
   ]
  },
  {
   "cell_type": "code",
   "execution_count": null,
   "metadata": {},
   "outputs": [],
   "source": [
    "class ListNode:\n",
    "    def __init__(self, val=0, next=None):\n",
    "        self.val = val\n",
    "        self.next = next\n",
    "\n",
    "def reverseList(head):\n",
    "    prev = None\n",
    "    curr = head\n",
    "    while curr:\n",
    "        next_temp = curr.next\n",
    "        curr.next = prev\n",
    "        prev = curr\n",
    "        curr = next_temp\n",
    "    return prev\n",
    "\n",
    "# Example usage\n",
    "nodes = [ListNode(1), ListNode(2), ListNode(3), ListNode(4), ListNode(5)]\n",
    "for i in range(len(nodes) - 1):\n",
    "    nodes[i].next = nodes[i+1]\n",
    "\n",
    "head = nodes[0]\n",
    "reversed_head = reverseList(head)\n",
    "\n",
    "current = reversed_head\n",
    "while current:\n",
    "    print(current.val, end=\" -> \" if current.next else \"\\n\")\n",
    "    current = current.next\n",
    "\n"
   ]
  },
  {
   "cell_type": "markdown",
   "metadata": {},
   "source": [
    "### Minimum Edit Distance"
   ]
  },
  {
   "cell_type": "code",
   "execution_count": null,
   "metadata": {},
   "outputs": [],
   "source": [
    "def minDistance(word1, word2):\n",
    "    m, w = len(word1), len(word2)\n",
    "    dp = [[0] * (w + 1) for _ in range(m + 1)]\n",
    "\n",
    "    for i in range(m + 1):\n",
    "        for j in range(w + 1):\n",
    "            if i == 0:\n",
    "                dp[i][j] = j\n",
    "            elif j == 0:\n",
    "                dp[i][j] = i\n",
    "            elif word1[i-1] == word2[j-1]:\n",
    "                dp[i][j] = dp[i-1][j-1]\n",
    "            else:\n",
    "                dp[i][j] = 1 + min(dp[i-1][j], dp[i][j-1], dp[i-1][j-1])\n",
    "\n",
    "    return dp[m][w]\n",
    "\n",
    "word1 = \"kitten\"\n",
    "word2 = \"sitting\"\n",
    "print(minDistance(word1, word2))\n"
   ]
  },
  {
   "cell_type": "markdown",
   "metadata": {},
   "source": [
    "### Boggle Game"
   ]
  },
  {
   "cell_type": "code",
   "execution_count": null,
   "metadata": {},
   "outputs": [],
   "source": [
    "def isWord(board, word):\n",
    "    rows, cols = len(board), len(board[0])\n",
    "    word_len = len(word)\n",
    "    \n",
    "    def backtrack(r, c, index):\n",
    "        if index == word_len:\n",
    "            return True\n",
    "        if r < 0 or r >= rows or c < 0 or c >= cols or board[r][c] != word[index]:\n",
    "            return False\n",
    "        temp = board[r][c]\n",
    "        board[r][c] = '#'\n",
    "        found = (backtrack(r+1, c, index+1) or\n",
    "                 backtrack(r-1, c, index+1) or\n",
    "                 backtrack(r, c+1, index+1) or\n",
    "                 backtrack(r, c-1, index+1) or\n",
    "                 backtrack(r+1, c+1, index+1) or\n",
    "                 backtrack(r-1, c-1, index+1) or\n",
    "                 backtrack(r+1, c-1, index+1) or\n",
    "                 backtrack(r-1, c+1, index+1))\n",
    "        board[r][c] = temp\n",
    "        return found\n",
    "\n",
    "    for i in range(rows):\n",
    "        for j in range(cols):\n",
    "            if backtrack(i, j, 0):\n",
    "                return True\n",
    "    return False\n",
    "\n",
    "def boggleGame(board, words):\n",
    "    found_words = []\n",
    "    for word in words:\n",
    "        if isWord(board, word):\n",
    "            found_words.append(word)\n",
    "    return found_words\n",
    "\n",
    "board = [['B', 'A', 'N', 'G'],\n",
    "         ['O', 'O', 'L', 'E'],\n",
    "         ['G', 'G', 'L', 'E'],\n",
    "         ['E', 'M', 'S', 'I']]\n",
    "words = [\"GOOGLE\", \"BANG\", \"GAMES\", \"BOOK\"]\n",
    "\n",
    "print(boggleGame(board, words))\n"
   ]
  }
 ],
 "metadata": {
  "language_info": {
   "name": "python"
  }
 },
 "nbformat": 4,
 "nbformat_minor": 2
}
